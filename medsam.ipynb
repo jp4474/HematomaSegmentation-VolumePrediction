{
  "nbformat": 4,
  "nbformat_minor": 0,
  "metadata": {
    "colab": {
      "provenance": [],
      "gpuType": "T4"
    },
    "kernelspec": {
      "name": "python3",
      "display_name": "Python 3"
    },
    "language_info": {
      "name": "python"
    },
    "accelerator": "GPU"
  },
  "cells": [
    {
      "cell_type": "markdown",
      "source": [
        "# 0. Import images"
      ],
      "metadata": {
        "id": "ECa7g1r8yklQ"
      }
    },
    {
      "cell_type": "code",
      "source": [
        "from google.colab import drive\n",
        "import nibabel as nib\n",
        "import matplotlib.pyplot as plt\n",
        "import os\n",
        "import numpy as np\n",
        "\n",
        "drive.mount('/content/drive')"
      ],
      "metadata": {
        "colab": {
          "base_uri": "https://localhost:8080/"
        },
        "id": "hRAbRq7jylB2",
        "outputId": "e952d9e7-f3fa-40b8-88c3-5ccf3c248d56"
      },
      "execution_count": null,
      "outputs": [
        {
          "output_type": "stream",
          "name": "stdout",
          "text": [
            "Drive already mounted at /content/drive; to attempt to forcibly remount, call drive.mount(\"/content/drive\", force_remount=True).\n"
          ]
        }
      ]
    },
    {
      "cell_type": "code",
      "source": [
        "POST_DIR = '/content/drive/MyDrive/Biomed project/ICH segmentation/BraTS_dataset/post_train/'\n",
        "MASK_DIR = '/content/drive/MyDrive/Biomed project/ICH segmentation/BraTS_dataset/tumor_mask_train/'\n",
        "PRE_DIR = '/content/drive/MyDrive/Biomed project/ICH segmentation/BraTS_dataset/pre_train/'\n",
        "\n",
        "# %cd POST_DIR\n",
        "# %ls -U | head -4"
      ],
      "metadata": {
        "id": "ehkEIHV-8Isg"
      },
      "execution_count": null,
      "outputs": []
    },
    {
      "cell_type": "code",
      "source": [
        "random_img_name = os.listdir(POST_DIR)[0]\n",
        "print(random_img_name)"
      ],
      "metadata": {
        "colab": {
          "base_uri": "https://localhost:8080/"
        },
        "id": "BznWeu968GA-",
        "outputId": "84f2720e-3771-4f5b-b955-9014107fa180"
      },
      "execution_count": null,
      "outputs": [
        {
          "output_type": "stream",
          "name": "stdout",
          "text": [
            "BraTS2021_01051_t1ce.nii.gz\n"
          ]
        }
      ]
    },
    {
      "cell_type": "code",
      "source": [
        "nii_img  = nib.load(MASK_DIR + 'BraTS2021_01051_seg.nii.gz') # Nifti1Image\n",
        "nii_data = nii_img.get_fdata() # np array"
      ],
      "metadata": {
        "id": "C-4vIuvwziAl"
      },
      "execution_count": null,
      "outputs": []
    },
    {
      "cell_type": "code",
      "source": [
        "def convert_to_binary(arr):\n",
        "    return np.where(arr > 0, 1, 0)"
      ],
      "metadata": {
        "id": "1YG5jJFb-_On"
      },
      "execution_count": null,
      "outputs": []
    },
    {
      "cell_type": "code",
      "source": [
        "def visualize_masks(nii_img):\n",
        "    nii_aff  = nii_img.affine\n",
        "    nii_hdr  = nii_img.header\n",
        "\n",
        "    # print(nii_aff ,'\\n',nii_hdr)\n",
        "    # print(nii_data.shape)\n",
        "    number_of_slices = nii_data.shape[1]\n",
        "    number_of_frames = nii_data.shape[2]\n",
        "    number_of_frames = 1\n",
        "\n",
        "    # Define the number of columns for subplot\n",
        "    num_columns = 5\n",
        "\n",
        "    if(len(nii_data.shape)==3):\n",
        "        start_slice = 80\n",
        "        end_slice = 100\n",
        "        num_slices = end_slice - start_slice + 1\n",
        "        num_rows = num_slices // num_columns + 1\n",
        "\n",
        "        fig, ax = plt.subplots(num_rows, num_columns, figsize=(10,10))\n",
        "\n",
        "        for i in range(start_slice, end_slice+1):\n",
        "            row = (i-start_slice) // num_columns\n",
        "            col = (i-start_slice) % num_columns\n",
        "            ax[row, col].imshow(nii_data[:,:,i])\n",
        "            ax[row, col].axis('off')\n",
        "\n",
        "        # Remove empty subplots\n",
        "        for j in range(i-start_slice+1, num_rows*num_columns):\n",
        "            fig.delaxes(ax.flatten()[j])\n",
        "\n",
        "        plt.show()"
      ],
      "metadata": {
        "id": "uqI__ZPi1Azb"
      },
      "execution_count": 88,
      "outputs": []
    },
    {
      "cell_type": "code",
      "source": [
        "# visualize_masks(nii_img)\n",
        "# plt.imshow(nii_data[:,:,80])\n",
        "# plt.show()"
      ],
      "metadata": {
        "id": "IADYN2243eXz"
      },
      "execution_count": 95,
      "outputs": []
    },
    {
      "cell_type": "code",
      "source": [
        "def box_coordinates_from_mask(mask, margin = 5):\n",
        "    nonzero_indices = np.transpose(np.nonzero(mask))\n",
        "\n",
        "    min_y = np.min(nonzero_indices[:, 0])\n",
        "    max_y = np.max(nonzero_indices[:, 0])\n",
        "    min_x = np.min(nonzero_indices[:, 1])\n",
        "    max_x = np.max(nonzero_indices[:, 1])\n",
        "\n",
        "    margin = 5\n",
        "\n",
        "    x0 = min_x - margin\n",
        "    y0 = min_y - margin\n",
        "    x1 = max_x + margin\n",
        "    y1 = max_y + margin\n",
        "\n",
        "    # print(f\"Row and column for non-zero elements with greatest x range: [{min_x}, {max_x}]\")\n",
        "    # print(f\"Row and column for non-zero elements with greatest y range: [{min_y}, {max_y}]\")\n",
        "    return x0, y0, x1, y1"
      ],
      "metadata": {
        "colab": {
          "base_uri": "https://localhost:8080/"
        },
        "id": "iHSYLItNqqr9",
        "outputId": "3f288580-d4a1-420f-eb57-71a19d278080"
      },
      "execution_count": 78,
      "outputs": [
        {
          "output_type": "stream",
          "name": "stdout",
          "text": [
            "Row and column for non-zero elements with greatest x range: [76, 140]\n",
            "Row and column for non-zero elements with greatest y range: [53, 115]\n"
          ]
        }
      ]
    },
    {
      "cell_type": "markdown",
      "source": [
        "# 1. Import MedSAM and packages"
      ],
      "metadata": {
        "id": "QYCG8K15wyVf"
      }
    },
    {
      "cell_type": "code",
      "source": [
        "!pip install -q git+https://github.com/bowang-lab/MedSAM.git\n",
        "# takes 10 min. 11.44am - 11.46"
      ],
      "metadata": {
        "id": "9eH3wV5dpH9D",
        "colab": {
          "base_uri": "https://localhost:8080/"
        },
        "outputId": "02af3609-05c4-4c08-dc13-dcd50607319a"
      },
      "execution_count": 62,
      "outputs": [
        {
          "output_type": "stream",
          "name": "stdout",
          "text": [
            "  Preparing metadata (setup.py) ... \u001b[?25l\u001b[?25hdone\n",
            "\u001b[2K     \u001b[90m━━━━━━━━━━━━━━━━━━━━━━━━━━━━━━━━━━━━━━━━\u001b[0m \u001b[32m1.3/1.3 MB\u001b[0m \u001b[31m25.1 MB/s\u001b[0m eta \u001b[36m0:00:00\u001b[0m\n",
            "\u001b[2K     \u001b[90m━━━━━━━━━━━━━━━━━━━━━━━━━━━━━━━━━━━━━━━━\u001b[0m \u001b[32m52.7/52.7 MB\u001b[0m \u001b[31m10.9 MB/s\u001b[0m eta \u001b[36m0:00:00\u001b[0m\n",
            "\u001b[2K     \u001b[90m━━━━━━━━━━━━━━━━━━━━━━━━━━━━━━━━━━━━━━━━\u001b[0m \u001b[32m511.6/511.6 kB\u001b[0m \u001b[31m50.3 MB/s\u001b[0m eta \u001b[36m0:00:00\u001b[0m\n",
            "\u001b[2K     \u001b[90m━━━━━━━━━━━━━━━━━━━━━━━━━━━━━━━━━━━━━━━━\u001b[0m \u001b[32m11.4/11.4 MB\u001b[0m \u001b[31m98.3 MB/s\u001b[0m eta \u001b[36m0:00:00\u001b[0m\n",
            "\u001b[2K     \u001b[90m━━━━━━━━━━━━━━━━━━━━━━━━━━━━━━━━━━━━━━━━\u001b[0m \u001b[32m75.6/75.6 kB\u001b[0m \u001b[31m11.3 MB/s\u001b[0m eta \u001b[36m0:00:00\u001b[0m\n",
            "\u001b[2K     \u001b[90m━━━━━━━━━━━━━━━━━━━━━━━━━━━━━━━━━━━━━━━━\u001b[0m \u001b[32m117.1/117.1 kB\u001b[0m \u001b[31m16.1 MB/s\u001b[0m eta \u001b[36m0:00:00\u001b[0m\n",
            "\u001b[2K     \u001b[90m━━━━━━━━━━━━━━━━━━━━━━━━━━━━━━━━━━━━━━━━\u001b[0m \u001b[32m69.1/69.1 kB\u001b[0m \u001b[31m10.8 MB/s\u001b[0m eta \u001b[36m0:00:00\u001b[0m\n",
            "\u001b[2K     \u001b[90m━━━━━━━━━━━━━━━━━━━━━━━━━━━━━━━━━━━━━━━━\u001b[0m \u001b[32m383.2/383.2 kB\u001b[0m \u001b[31m43.6 MB/s\u001b[0m eta \u001b[36m0:00:00\u001b[0m\n",
            "\u001b[2K     \u001b[90m━━━━━━━━━━━━━━━━━━━━━━━━━━━━━━━━━━━━━━━━\u001b[0m \u001b[32m59.1/59.1 kB\u001b[0m \u001b[31m9.2 MB/s\u001b[0m eta \u001b[36m0:00:00\u001b[0m\n",
            "\u001b[2K     \u001b[90m━━━━━━━━━━━━━━━━━━━━━━━━━━━━━━━━━━━━━━━━\u001b[0m \u001b[32m77.9/77.9 kB\u001b[0m \u001b[31m11.7 MB/s\u001b[0m eta \u001b[36m0:00:00\u001b[0m\n",
            "\u001b[2K     \u001b[90m━━━━━━━━━━━━━━━━━━━━━━━━━━━━━━━━━━━━━━━━\u001b[0m \u001b[32m58.3/58.3 kB\u001b[0m \u001b[31m9.0 MB/s\u001b[0m eta \u001b[36m0:00:00\u001b[0m\n",
            "\u001b[2K     \u001b[90m━━━━━━━━━━━━━━━━━━━━━━━━━━━━━━━━━━━━━━━━\u001b[0m \u001b[32m1.1/1.1 MB\u001b[0m \u001b[31m55.4 MB/s\u001b[0m eta \u001b[36m0:00:00\u001b[0m\n",
            "\u001b[2K     \u001b[90m━━━━━━━━━━━━━━━━━━━━━━━━━━━━━━━━━━━━━━━━\u001b[0m \u001b[32m1.6/1.6 MB\u001b[0m \u001b[31m88.8 MB/s\u001b[0m eta \u001b[36m0:00:00\u001b[0m\n",
            "\u001b[2K     \u001b[90m━━━━━━━━━━━━━━━━━━━━━━━━━━━━━━━━━━━━━━━━\u001b[0m \u001b[32m105.9/105.9 kB\u001b[0m \u001b[31m15.8 MB/s\u001b[0m eta \u001b[36m0:00:00\u001b[0m\n",
            "\u001b[2K     \u001b[90m━━━━━━━━━━━━━━━━━━━━━━━━━━━━━━━━━━━━━━━━\u001b[0m \u001b[32m1.1/1.1 MB\u001b[0m \u001b[31m59.5 MB/s\u001b[0m eta \u001b[36m0:00:00\u001b[0m\n",
            "\u001b[2K     \u001b[90m━━━━━━━━━━━━━━━━━━━━━━━━━━━━━━━━━━━━━━━━\u001b[0m \u001b[32m133.5/133.5 kB\u001b[0m \u001b[31m13.7 MB/s\u001b[0m eta \u001b[36m0:00:00\u001b[0m\n",
            "\u001b[2K     \u001b[90m━━━━━━━━━━━━━━━━━━━━━━━━━━━━━━━━━━━━━━━━\u001b[0m \u001b[32m66.4/66.4 kB\u001b[0m \u001b[31m5.4 MB/s\u001b[0m eta \u001b[36m0:00:00\u001b[0m\n",
            "\u001b[?25h  Building wheel for medsam (setup.py) ... \u001b[?25l\u001b[?25hdone\n",
            "\u001b[31mERROR: pip's dependency resolver does not currently take into account all the packages that are installed. This behaviour is the source of the following dependency conflicts.\n",
            "google-colab 1.0.0 requires ipykernel==5.5.6, but you have ipykernel 6.29.4 which is incompatible.\u001b[0m\u001b[31m\n",
            "\u001b[0m"
          ]
        }
      ]
    },
    {
      "cell_type": "code",
      "source": [
        "# %% environment and functions\n",
        "import numpy as np\n",
        "import matplotlib.pyplot as plt\n",
        "import os\n",
        "join = os.path.join\n",
        "import torch\n",
        "from segment_anything import sam_model_registry\n",
        "from skimage import io, transform\n",
        "import torch.nn.functional as F\n",
        "\n",
        "# visualization functions\n",
        "# source: https://github.com/facebookresearch/segment-anything/blob/main/notebooks/predictor_example.ipynb\n",
        "# change color to avoid red and green\n",
        "def show_mask(mask, ax, random_color=False):\n",
        "    if random_color:\n",
        "        color = np.concatenate([np.random.random(3), np.array([0.6])], axis=0)\n",
        "    else:\n",
        "        color = np.array([251/255, 252/255, 30/255, 0.6])\n",
        "    h, w = mask.shape[-2:]\n",
        "    mask_image = mask.reshape(h, w, 1) * color.reshape(1, 1, -1)\n",
        "    ax.imshow(mask_image)\n",
        "\n",
        "def show_box(box, ax):\n",
        "    x0, y0 = box[0], box[1]\n",
        "    w, h = box[2] - box[0], box[3] - box[1]\n",
        "    # print(\"x_0, y_0\", x0, y0)\n",
        "    # print(\"w, h\", w, h)\n",
        "    ax.add_patch(plt.Rectangle((x0, y0), w, h, edgecolor='blue', facecolor=(0,0,0,0), lw=2))\n",
        "\n",
        "@torch.no_grad()\n",
        "def medsam_inference(medsam_model, img_embed, box_1024, H, W):\n",
        "    box_torch = torch.as_tensor(box_1024, dtype=torch.float, device=img_embed.device)\n",
        "    if len(box_torch.shape) == 2:\n",
        "        box_torch = box_torch[:, None, :] # (B, 1, 4)\n",
        "\n",
        "    sparse_embeddings, dense_embeddings = medsam_model.prompt_encoder(\n",
        "        points=None,\n",
        "        boxes=box_torch,\n",
        "        masks=None,\n",
        "    )\n",
        "    low_res_logits, _ = medsam_model.mask_decoder(\n",
        "        image_embeddings=img_embed, # (B, 256, 64, 64)\n",
        "        image_pe=medsam_model.prompt_encoder.get_dense_pe(), # (1, 256, 64, 64)\n",
        "        sparse_prompt_embeddings=sparse_embeddings, # (B, 2, 256)\n",
        "        dense_prompt_embeddings=dense_embeddings, # (B, 256, 64, 64)\n",
        "        multimask_output=False,\n",
        "        )\n",
        "\n",
        "    low_res_pred = torch.sigmoid(low_res_logits)  # (1, 1, 256, 256)\n",
        "\n",
        "    low_res_pred = F.interpolate(\n",
        "        low_res_pred,\n",
        "        size=(H, W),\n",
        "        mode=\"bilinear\",\n",
        "        align_corners=False,\n",
        "    )  # (1, 1, gt.shape)\n",
        "    low_res_pred = low_res_pred.squeeze().cpu().numpy()  # (256, 256)\n",
        "    medsam_seg = (low_res_pred > 0.5).astype(np.uint8)\n",
        "    return medsam_seg\n"
      ],
      "metadata": {
        "id": "EVscATrepaEr"
      },
      "execution_count": 73,
      "outputs": []
    },
    {
      "cell_type": "markdown",
      "source": [
        "# 2. Import images"
      ],
      "metadata": {
        "id": "ObeOoNaNw5RM"
      }
    },
    {
      "cell_type": "code",
      "source": [
        "# download model and data\n",
        "!wget -O img_demo.png https://pngraw.githubusercontent.com/bowang-lab/MedSAM/main/assets/img_demo.png\n",
        "!wget -O medsam_vit_b.pth https://zenodo.org/records/10689643/files/medsam_vit_b.pth"
      ],
      "metadata": {
        "id": "hYDVOFq2qMuU",
        "colab": {
          "base_uri": "https://localhost:8080/"
        },
        "outputId": "ef7f1a24-e564-4739-b8fc-9d325ef01c19"
      },
      "execution_count": 65,
      "outputs": [
        {
          "output_type": "stream",
          "name": "stdout",
          "text": [
            "--2024-04-10 15:46:54--  https://pngraw.githubusercontent.com/bowang-lab/MedSAM/main/assets/img_demo.png\n",
            "Resolving pngraw.githubusercontent.com (pngraw.githubusercontent.com)... 185.199.108.133, 185.199.109.133, 185.199.110.133, ...\n",
            "Connecting to pngraw.githubusercontent.com (pngraw.githubusercontent.com)|185.199.108.133|:443... connected.\n",
            "HTTP request sent, awaiting response... 500 Domain Not Found\n",
            "2024-04-10 15:46:54 ERROR 500: Domain Not Found.\n",
            "\n",
            "--2024-04-10 15:46:54--  https://zenodo.org/records/10689643/files/medsam_vit_b.pth\n",
            "Resolving zenodo.org (zenodo.org)... 188.185.79.172, 188.184.98.238, 188.184.103.159, ...\n",
            "Connecting to zenodo.org (zenodo.org)|188.185.79.172|:443... connected.\n",
            "HTTP request sent, awaiting response... 200 OK\n",
            "Length: 375049145 (358M) [application/octet-stream]\n",
            "Saving to: ‘medsam_vit_b.pth’\n",
            "\n",
            "medsam_vit_b.pth    100%[===================>] 357.67M  17.1MB/s    in 23s     \n",
            "\n",
            "2024-04-10 15:47:18 (15.3 MB/s) - ‘medsam_vit_b.pth’ saved [375049145/375049145]\n",
            "\n"
          ]
        }
      ]
    },
    {
      "cell_type": "code",
      "source": [
        "#%% load model and image\n",
        "MedSAM_CKPT_PATH = \"/content/medsam_vit_b.pth\"\n",
        "device = \"cuda:0\"\n",
        "medsam_model = sam_model_registry['vit_b'](checkpoint=MedSAM_CKPT_PATH)\n",
        "medsam_model = medsam_model.to(device)\n",
        "medsam_model.eval()\n",
        "\n",
        "# img_np = io.imread('/content/drive/MyDrive/Biomed project/ICH segmentation/BraTS_dataset/pre_train/img_demo.png')\n",
        "img_np = nii_data[:,:,80]\n",
        "\n",
        "if len(img_np.shape) == 2:\n",
        "    img_3c = np.repeat(img_np[:, :, None], 3, axis=-1)\n",
        "else:\n",
        "    img_3c = img_np\n",
        "H, W, _ = img_3c.shape"
      ],
      "metadata": {
        "id": "MBWWGgitt9D2"
      },
      "execution_count": 66,
      "outputs": []
    },
    {
      "cell_type": "code",
      "source": [
        "#%% image preprocessing and model inference\n",
        "img_1024 = transform.resize(img_3c, (1024, 1024), order=3, preserve_range=True, anti_aliasing=True).astype(np.uint8)\n",
        "img_1024 = (img_1024 - img_1024.min()) / np.clip(\n",
        "    img_1024.max() - img_1024.min(), a_min=1e-8, a_max=None\n",
        ")  # normalize to [0, 1], (H, W, 3)\n",
        "# convert the shape to (3, H, W)\n",
        "img_1024_tensor = torch.tensor(img_1024).float().permute(2, 0, 1).unsqueeze(0).to(device)\n",
        "\n",
        "# box_np = np.array([[95,255, 190, 350]])\n",
        "box_np = np.array([[x0,y0, x1, y1]])\n",
        "# transfer box_np t0 1024x1024 scale\n",
        "box_1024 = box_np / np.array([W, H, W, H]) * 1024\n",
        "with torch.no_grad():\n",
        "    image_embedding = medsam_model.image_encoder(img_1024_tensor) # (1, 256, 64, 64)\n",
        "\n",
        "medsam_seg = medsam_inference(medsam_model, image_embedding, box_1024, H, W)"
      ],
      "metadata": {
        "id": "dXvYXPRwufXi"
      },
      "execution_count": 86,
      "outputs": []
    },
    {
      "cell_type": "code",
      "source": [
        "medsam_seg.shape"
      ],
      "metadata": {
        "colab": {
          "base_uri": "https://localhost:8080/"
        },
        "id": "OKgEFHA3vSBM",
        "outputId": "47b44c0c-cbb7-40a1-e04d-7bfa0da46852"
      },
      "execution_count": 98,
      "outputs": [
        {
          "output_type": "execute_result",
          "data": {
            "text/plain": [
              "(240, 240)"
            ]
          },
          "metadata": {},
          "execution_count": 98
        }
      ]
    },
    {
      "cell_type": "code",
      "source": [
        "#%% visualize results\n",
        "fig, ax = plt.subplots(1, 2, figsize=(10, 5))\n",
        "ax[0].imshow(img_3c)\n",
        "show_box(box_np[0], ax[0])\n",
        "ax[0].set_title(\"Input Image and Bounding Box\")\n",
        "ax[1].imshow(img_3c)\n",
        "show_mask(medsam_seg, ax[1])\n",
        "show_box(box_np[0], ax[1])\n",
        "ax[1].set_title(\"MedSAM Segmentation\")\n",
        "plt.show()"
      ],
      "metadata": {
        "id": "YhzFxk3Q4Ysp",
        "colab": {
          "base_uri": "https://localhost:8080/",
          "height": 470
        },
        "outputId": "176a316b-bd37-48b4-d987-f14980686540"
      },
      "execution_count": 96,
      "outputs": [
        {
          "output_type": "stream",
          "name": "stderr",
          "text": [
            "WARNING:matplotlib.image:Clipping input data to the valid range for imshow with RGB data ([0..1] for floats or [0..255] for integers).\n",
            "WARNING:matplotlib.image:Clipping input data to the valid range for imshow with RGB data ([0..1] for floats or [0..255] for integers).\n"
          ]
        },
        {
          "output_type": "display_data",
          "data": {
            "text/plain": [
              "<Figure size 1000x500 with 2 Axes>"
            ],
            "image/png": "[encoded data removed]"
          },
          "metadata": {}
        }
      ]
    },
    {
      "cell_type": "code",
      "source": [
        "medsam_seg.shape"
      ],
      "metadata": {
        "colab": {
          "base_uri": "https://localhost:8080/"
        },
        "id": "gdG3clDLt7gz",
        "outputId": "f813d7f2-35a9-47d9-c4a0-afa15e6fa11c"
      },
      "execution_count": 104,
      "outputs": [
        {
          "output_type": "execute_result",
          "data": {
            "text/plain": [
              "(240, 240)"
            ]
          },
          "metadata": {},
          "execution_count": 104
        }
      ]
    },
    {
      "cell_type": "code",
      "source": [
        "!pip install torchmetrics"
      ],
      "metadata": {
        "id": "NZE00SvNyVIt"
      },
      "execution_count": null,
      "outputs": []
    },
    {
      "cell_type": "code",
      "source": [
        "from torchmetrics.classification import Dice\n",
        "dice = Dice(average='micro')\n",
        "target = torch.IntTensor(convert_to_binary(img_np))\n",
        "preds = torch.IntTensor(medsam_seg)\n",
        "# print(target.shape)\n",
        "# print(preds.shape)\n",
        "dice(preds, target)"
      ],
      "metadata": {
        "colab": {
          "base_uri": "https://localhost:8080/"
        },
        "id": "cYYvRTeMxklE",
        "outputId": "eb0dcae3-0973-4f5e-8cff-b5c94db4c544"
      },
      "execution_count": 118,
      "outputs": [
        {
          "output_type": "execute_result",
          "data": {
            "text/plain": [
              "tensor(0.9545)"
            ]
          },
          "metadata": {},
          "execution_count": 118
        }
      ]
    }
  ]
}